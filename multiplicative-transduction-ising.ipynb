{
 "cells": [
  {
   "cell_type": "markdown",
   "metadata": {},
   "source": [
    "# Ising model configuration generator\n",
    "\n",
    "Demonstration of multiplicative amplitude transduction using Qiskit"
   ]
  },
  {
   "cell_type": "code",
   "execution_count": 1,
   "metadata": {},
   "outputs": [],
   "source": [
    "%matplotlib inline\n",
    "# Importing standard Qiskit libraries and configuring account\n",
    "from qiskit import QuantumCircuit, QuantumRegister, ClassicalRegister, execute, Aer, IBMQ\n",
    "from qiskit.compiler import transpile\n",
    "from qiskit.providers.ibmq import least_busy\n",
    "from qiskit.tools.jupyter import *"
   ]
  },
  {
   "cell_type": "code",
   "execution_count": 2,
   "metadata": {},
   "outputs": [],
   "source": [
    "import os\n",
    "import sys\n",
    "import math\n",
    "import time\n",
    "import collections\n",
    "import numpy as np\n",
    "import h5py\n",
    "import matplotlib.pyplot as plt"
   ]
  },
  {
   "cell_type": "markdown",
   "metadata": {},
   "source": [
    "#### Note about the next block\n",
    "Lines below require `qiskit-qcgpu-provider`.\n",
    "Version in PyPI is incompatible with the latest Qiskit (as of May 25 2020) so you'll need to clone [The source](https://github.com/qiskit-community/qiskit-qcgpu-provider) and do `pip install .`"
   ]
  },
  {
   "cell_type": "code",
   "execution_count": 3,
   "metadata": {},
   "outputs": [],
   "source": [
    "#os.environ['PYOPENCL_CTX'] = '0'\n",
    "#from qiskit_qcgpu_provider import QCGPUProvider\n",
    "#QCGPU = QCGPUProvider()"
   ]
  },
  {
   "cell_type": "markdown",
   "metadata": {},
   "source": [
    "## Function to create a common \"params\" dictionary"
   ]
  },
  {
   "cell_type": "code",
   "execution_count": 4,
   "metadata": {},
   "outputs": [],
   "source": [
    "def get_params(lattice_side):\n",
    "    params = dict()\n",
    "    params['lattice_side'] = lattice_side\n",
    "    n_spins = lattice_side ** 2\n",
    "    params['n_spins'] = n_spins\n",
    "    n_links = n_spins * 2 # periodic boundary condition\n",
    "    sigma_max = n_links if (lattice_side % 2 == 0) else (n_links - 2 * lattice_side)\n",
    "    params['sigma_max'] = sigma_max\n",
    "    log2_data_depth = math.log2(sigma_max // 2) # energy always changes by 2 -> compress data\n",
    "    nq_data = math.ceil(log2_data_depth)\n",
    "    if nq_data == math.floor(log2_data_depth):\n",
    "        nq_data += 1\n",
    "    params['nq_data'] = nq_data\n",
    "\n",
    "    return params"
   ]
  },
  {
   "cell_type": "markdown",
   "metadata": {},
   "source": [
    "## Functions to inspect the state vector"
   ]
  },
  {
   "cell_type": "code",
   "execution_count": 5,
   "metadata": {},
   "outputs": [],
   "source": [
    "def get_states(qc, backend=None, exc_args={}):\n",
    "    if backend is None:\n",
    "        backend = Aer.get_backend('statevector_simulator')\n",
    "        #exc_args = {'backend_options': {'max_memory_mb': 12000}}\n",
    "        \n",
    "    job = execute(qc, backend, **exc_args)\n",
    "    result = job.result()\n",
    "    if not result.success:\n",
    "        raise RuntimeError(result.results[0].status)\n",
    "        \n",
    "    return result.results[0].data.statevector"
   ]
  },
  {
   "cell_type": "code",
   "execution_count": 6,
   "metadata": {},
   "outputs": [],
   "source": [
    "def print_states(params, states, group_by_spins=True, data_binary=False, filter_data=None, precision=2):\n",
    "    lattice_side = params['lattice_side']\n",
    "    n_spins = params['n_spins']\n",
    "    nq_data = params['nq_data']\n",
    "\n",
    "    anc_shift = n_spins + nq_data\n",
    "    spin_mask = 2 ** n_spins - 1\n",
    "    data_mask = 2 ** nq_data - 1\n",
    "\n",
    "    data_binary_template = '{:0%db}' % nq_data\n",
    "\n",
    "    spin_groups = collections.defaultdict(list)\n",
    "    norm2 = 0.\n",
    "\n",
    "    for i in range(states.shape[0]):\n",
    "        v = states[i]\n",
    "        if np.absolute(v) == 0.:\n",
    "            continue\n",
    "\n",
    "        if ((i >> anc_shift) % 2) != 1:\n",
    "            print('Non-1 ancilla!!', ('{:0%db}:' % qc.num_qubits).format(i))\n",
    "            continue\n",
    "\n",
    "        spins = i & spin_mask\n",
    "        data = (i >> n_spins) & data_mask\n",
    "\n",
    "        if filter_data is not None and data not in filter_data:\n",
    "            continue\n",
    "\n",
    "        if data_binary:\n",
    "            data = data_binary_template.format(data)\n",
    "\n",
    "        spin_groups[spins].append((data, v))\n",
    "        norm2 += np.square(np.absolute(v))\n",
    "\n",
    "    state_template = '{:0%db}:' % n_spins\n",
    "    float_template = '{:0.%df}' % precision\n",
    "    N = states.shape[0]\n",
    "\n",
    "    print('N =', N)\n",
    "\n",
    "    for spins in sorted(spin_groups.keys()):\n",
    "        state_str = state_template.format(spins).replace('0', 'o').replace('1', '+')\n",
    "        for ipos in range(lattice_side, 0, -lattice_side):\n",
    "            state_str = state_str[:ipos] + '\\n' + state_str[ipos:]\n",
    "\n",
    "        if group_by_spins:\n",
    "            print(state_str[:-1])\n",
    "            for data, v in spin_groups[spins]:\n",
    "                print(('{} %s/sqrt(N) @ %spi' % (float_template, float_template)).format(data, np.absolute(v) * math.sqrt(N), np.angle(v) / np.pi))\n",
    "\n",
    "        else:\n",
    "            for data, v in spin_groups[spins]:\n",
    "                print(('{}{} %s/sqrt(N) @ %spi' % (float_template, float_template)).format(state_str, data, np.absolute(v) * math.sqrt(states.shape[0]), np.angle(v) / np.pi))\n",
    "\n",
    "    if filter_data is not None:\n",
    "        print('Subspace norm', math.sqrt(norm2))\n",
    "\n",
    "    print('-----')"
   ]
  },
  {
   "cell_type": "code",
   "execution_count": 7,
   "metadata": {},
   "outputs": [],
   "source": [
    "try:\n",
    "    import numba\n",
    "except ImportError:\n",
    "    def abs2(x):\n",
    "        return np.square(np.absolute(x))\n",
    "else:\n",
    "    @numba.vectorize([numba.float64(numba.complex128), numba.float32(numba.complex64)])\n",
    "    def abs2(x):\n",
    "        return x.real**2 + x.imag**2\n",
    "\n",
    "def get_norm(params, states, subspace_shift):\n",
    "    nq_data = params['nq_data']\n",
    "\n",
    "    states = states.reshape((-1, 2 ** nq_data, 2 ** subspace_shift))\n",
    "\n",
    "    norm2 = np.sum(abs2(states[:, 0, :]))\n",
    "\n",
    "    return math.sqrt(norm2)"
   ]
  },
  {
   "cell_type": "markdown",
   "metadata": {},
   "source": [
    "## Functions for running experiments and counting the results"
   ]
  },
  {
   "cell_type": "code",
   "execution_count": 8,
   "metadata": {},
   "outputs": [],
   "source": [
    "def get_counts(qc, backend=None, transpiled=False, shots=8192):\n",
    "    if backend is None:\n",
    "        backend = Aer.get_backend('qasm_simulator') # the device to run on\n",
    "        \n",
    "    if transpiled:\n",
    "        qc_transpiled = qc\n",
    "    else:\n",
    "        qc_transpiled = transpile(qc, backend=backend, optimization_level=1)\n",
    "        \n",
    "    counts = collections.defaultdict(int)\n",
    "    shots_remaining = shots\n",
    "    shots_per_job = backend.configuration().max_shots\n",
    "    jobs = []\n",
    "    while shots_remaining > 0:\n",
    "        jobs.append(execute(qc_transpiled, backend, shots=min(shots_remaining, shots_per_job)))\n",
    "        shots_remaining -= shots_per_job\n",
    "\n",
    "    while len(jobs) > 0:\n",
    "        job = jobs[0]\n",
    "        if job.in_final_state():\n",
    "            jobs.pop(0)\n",
    "            result = job.result()\n",
    "            cnt = result.get_counts(qc)\n",
    "            for key, value in cnt.items():\n",
    "                counts[key] += value\n",
    "                \n",
    "    return counts"
   ]
  },
  {
   "cell_type": "code",
   "execution_count": 9,
   "metadata": {},
   "outputs": [],
   "source": [
    "def get_efficiency(params, counts):\n",
    "    # First nq_data bits of the key = measured value of D or E register\n",
    "    nq_data = params['nq_data']\n",
    "\n",
    "    hits = 0\n",
    "    total = 0\n",
    "\n",
    "    for key, value in counts.items():\n",
    "        total += value\n",
    "        if int(key[:nq_data], 2) == 0:\n",
    "            hits += value\n",
    "\n",
    "    return hits / total"
   ]
  },
  {
   "cell_type": "code",
   "execution_count": 10,
   "metadata": {},
   "outputs": [],
   "source": [
    "def numpify_counts(counts):\n",
    "    out = np.empty((len(counts), 2), dtype=np.int64)\n",
    "    for ient, (key, value) in enumerate(counts.items()):\n",
    "        out[ient][0] = int(key, 2)\n",
    "        out[ient][1] = value\n",
    "        \n",
    "    return out"
   ]
  },
  {
   "cell_type": "markdown",
   "metadata": {},
   "source": [
    "## Functions defining the circuit"
   ]
  },
  {
   "cell_type": "code",
   "execution_count": 11,
   "metadata": {},
   "outputs": [],
   "source": [
    "def ising(params, K, namp=None, compute_norm=True, trans_only=False, measure=True, version=1):\n",
    "    \"\"\"\n",
    "    Main function that defines the full circuit. Call with a params dictionary and the inverse temperature K.\n",
    "    \n",
    "    Args:\n",
    "        params (dict): Circuit parameters.\n",
    "        K (float): value of beta * J.\n",
    "        namp (int): Specify the number of amplification iterations.\n",
    "        compute_norm (bool): If True, computes the norm of the target state using the statevector simulator.\n",
    "        trans_only (bool): If True, compose a circuit consisting of transduction and amplification only.\n",
    "        measure (bool): If True, append the measurements at the end. Set to False if you wish to inspect the state vector.\n",
    "        version (int):\n",
    "            1 -> Write (Sigma_l - Sigma^min) in the data register and transduce the amplitudes as Prod_k [tan(atan(exp(K 2^k)))]^Sigma_l(k))\n",
    "            2 -> Write (Sigma^max - Sigma_l) in the data register and transduce the amplitudes as Prod_k [tan(atan(exp(-K 2^k)))]^(-Sigma_l(k))\n",
    "            3 -> Write (Sigma^max - Sigma_l) in the data register and transduce the amplitudes as Prod_k [cos(acos(exp(-K 2^k)))]^(-Sigma_l(k))\n",
    "            Version 2 and 3 are in the paper (\"direct\" and \"controlled\" variants).\n",
    "    \"\"\"\n",
    "    \n",
    "    # Define the quantum circuit\n",
    "    n_spins = params['n_spins']\n",
    "    nq_data = params['nq_data']\n",
    "\n",
    "    # Register for spin configurations\n",
    "    state_register = QuantumRegister(n_spins, 'state')\n",
    "    # D register\n",
    "    data_register = QuantumRegister(nq_data, 'data')\n",
    "    # Ancilla bit used to write spin pair counts to D\n",
    "    anc_register = QuantumRegister(1, 'anc')\n",
    "    # Measurement register\n",
    "    mmt_register = ClassicalRegister(n_spins + nq_data, 'mmt')\n",
    "\n",
    "    # Main circuit\n",
    "    if version == 3:\n",
    "        # E register\n",
    "        crot_register = QuantumRegister(nq_data, 'crot')\n",
    "        qc = QuantumCircuit(state_register, data_register, anc_register, crot_register, mmt_register)\n",
    "    else:\n",
    "        qc = QuantumCircuit(state_register, data_register, anc_register, mmt_register)\n",
    "\n",
    "    # Make ancilla rotatable by U1\n",
    "    qc.x(anc_register[0])\n",
    "\n",
    "    if version == 1:\n",
    "        loggamma_sign = 1.\n",
    "        transduce_amplitude = transduce_tan\n",
    "        subspace_shift = n_spins\n",
    "        target_register = data_register\n",
    "    elif version == 2:\n",
    "        loggamma_sign = -1.\n",
    "        transduce_amplitude = transduce_tan\n",
    "        subspace_shift = n_spins\n",
    "        target_register = data_register\n",
    "    elif version == 3:\n",
    "        loggamma_sign = -1.\n",
    "        transduce_amplitude = transduce_cos\n",
    "        subspace_shift = n_spins + nq_data + 1\n",
    "        target_register = crot_register\n",
    "        \n",
    "    # Write spin pair counts to the data register\n",
    "    if not trans_only:\n",
    "        qc_write = write_data(params, qc, loggamma_sign)\n",
    "        qc.extend(qc_write)\n",
    "    # Transduce amplitudes from the content of the data register\n",
    "    qc_transduce = transduce_amplitude(K, qc, loggamma_sign)\n",
    "    qc.extend(qc_transduce)\n",
    "\n",
    "    if namp is None or compute_norm:\n",
    "        # Compute the norm of the target state to determine the number of necessary amplification iterations\n",
    "        # (or just to print the norm)\n",
    "        \n",
    "        #os.environ['PYOPENCL_CTX'] = '0:0,1'\n",
    "        #backend = QCGPU.get_backend('statevector_simulator')\n",
    "        backend = None\n",
    "        states = get_states(qc, backend=backend)\n",
    "        norm = get_norm(params, states, subspace_shift)\n",
    "\n",
    "        if namp is None:\n",
    "            namp = round(math.pi / 4. / norm)\n",
    "\n",
    "        print('norm', norm, 'namp', namp)\n",
    "\n",
    "    # Amplitude amplification\n",
    "    if namp != 0:\n",
    "        qc_it = phase_flip_target(qc, target_register)\n",
    "        qc_minus_is = phase_flip_source(qc)\n",
    "    \n",
    "    for _ in range(namp):\n",
    "        qc.extend(qc_it)\n",
    "        qc.extend(qc_transduce.inverse())\n",
    "        if not trans_only:\n",
    "            qc.extend(qc_write.inverse())\n",
    "        qc.extend(qc_minus_is)\n",
    "        if not trans_only:\n",
    "            qc.extend(qc_write)\n",
    "        qc.extend(qc_transduce)\n",
    "        \n",
    "    if compute_norm:\n",
    "        states = get_states(qc, backend=backend)\n",
    "        norm = get_norm(params, states, subspace_shift)\n",
    "\n",
    "        print('post-amp norm', norm)\n",
    "        \n",
    "    if measure:\n",
    "        for ispin in range(n_spins):\n",
    "            qc.measure(state_register[ispin], mmt_register[ispin])\n",
    "        for idata in range(nq_data):\n",
    "            qc.measure(target_register[idata], mmt_register[n_spins + idata])\n",
    "\n",
    "    return qc"
   ]
  },
  {
   "cell_type": "code",
   "execution_count": 12,
   "metadata": {},
   "outputs": [],
   "source": [
    "def write_data(params, qc_main, loggamma_sign):\n",
    "    \"\"\"\n",
    "    Write half the number of opposing spin pairs Sigma_l/2 into the data register. For the true Hamiltonian, we\n",
    "    should actually write (n_spins/2 - Sigma_l/2) but we instead apply constant offsets to keep the content of\n",
    "    the register nonnegative.\n",
    "    A constant shift in the data register corresponds to a contant factor in the amplitudes, which may affect the\n",
    "    norm of the target state (and therefore the necessary amplification iterations) but in this specific example,\n",
    "    the effect is small.\n",
    "    \"\"\"\n",
    "    \n",
    "    lattice_side = params['lattice_side']\n",
    "    nq_data = params['nq_data']\n",
    "    sigma_max = params['sigma_max']\n",
    "    \n",
    "    registers = qc_main.qregs + qc_main.cregs\n",
    "    qc = QuantumCircuit(*registers)\n",
    "    \n",
    "    state_register = qc.qregs[0]\n",
    "    data_register = qc.qregs[1]\n",
    "    anc_register = QuantumRegister(1, 'anc')\n",
    "    anc = anc_register[0]\n",
    "    \n",
    "    # Initialize spins to a superposition of all configurations\n",
    "    for spin in state_register:\n",
    "        qc.h(spin)\n",
    "\n",
    "    # Initialize data register also to a full sum from which we reverse Fourier transform\n",
    "    for data in data_register:\n",
    "        qc.h(data)\n",
    "        \n",
    "    # Encode the nearest-neighbor interaction energy as phase\n",
    "    # Do a controlled rotation for opposing spins\n",
    "    # Final state for a spin state k is |k> 1/sqrt(2**d) sum_j exp(-gamma_sign * 2*pi*i/2**d * Sigma_l/2 * j) |j>\n",
    "    delta = -loggamma_sign * 2. * math.pi / (2 ** nq_data) / 2\n",
    "    \n",
    "    for ix, iy in [(ix, iy) for iy in range(lattice_side) for ix in range(lattice_side)]:\n",
    "        ispin = iy * lattice_side + ix\n",
    "        spin = state_register[ispin]\n",
    "\n",
    "        for ineighbor in [iy * lattice_side + ((ix + 1) % lattice_side), ((iy + 1) % lattice_side) * lattice_side + ix]:\n",
    "            neighbor = state_register[ineighbor]\n",
    "            # Control on the XOR of the neighbors\n",
    "            qc.cx(spin, neighbor)\n",
    "            for idata, data in enumerate(data_register):\n",
    "                qc.mcu1(delta * (2 ** idata), [neighbor, data], anc)\n",
    "            qc.cx(spin, neighbor)\n",
    "    \n",
    "    if loggamma_sign > 0.:\n",
    "        # Now do a global phase shift\n",
    "        # Final state for a spin state k is |k> 1/sqrt(2**d) sum_j exp(2*pi*i/2**d * (Sigma^max - Sigma_l)/2 * j) |j>\n",
    "        for idata, data in enumerate(data_register):\n",
    "            qc.cu1(delta * (2 ** idata) * sigma_max, data, anc)\n",
    "            \n",
    "    # Inverse Fourier transform - data register now holds Sigma_l/2 or (Sigma^max - Sigma_l)/2\n",
    "    for idata in range(nq_data - 1, -1, -1):\n",
    "        qc.h(data_register[idata])\n",
    "        for jdata in range(idata - 1, -1, -1):\n",
    "            qc.cu1(-math.pi / (2 ** (idata - jdata)), data_register[jdata], data_register[idata])\n",
    "\n",
    "    for idata in range(nq_data // 2):\n",
    "        qc.swap(data_register[idata], data_register[nq_data - idata - 1])\n",
    "    \n",
    "    return qc"
   ]
  },
  {
   "cell_type": "code",
   "execution_count": 13,
   "metadata": {},
   "outputs": [],
   "source": [
    "def transduce_tan(K, qc_main, loggamma_sign):\n",
    "    # Rotate the data register qubits to set state weights\n",
    "    # Final state for a spin state k is \n",
    "    # loggamma_sign > 0: |k> prod_j cos(theta_j) [exp(K * (Sigma^max - Sigma_l)) |0>^d + |others>]\n",
    "    # loggamma_sign < 0: |k> prod_j cos(theta_j) [exp(-K * Sigma_l) |0>^d + |others>]\n",
    "    registers = qc_main.qregs + qc_main.cregs\n",
    "    qc = QuantumCircuit(*registers)\n",
    "    \n",
    "    data_register = qc.qregs[1]\n",
    "\n",
    "    for idata, data in enumerate(data_register):\n",
    "        theta = np.arctan(np.exp(loggamma_sign * K * (2 ** idata) * 2))\n",
    "        qc.ry(-theta * 2., data)\n",
    "        \n",
    "    return qc"
   ]
  },
  {
   "cell_type": "code",
   "execution_count": 14,
   "metadata": {},
   "outputs": [],
   "source": [
    "def transduce_cos(K, qc_main, loggamma_sign):\n",
    "    # Rotate the data register qubits to set state weights\n",
    "    # Final state for a spin state k is |k> prod_j [exp(-K * Sigma_l) |0>^d + |others>]\n",
    "    registers = qc_main.qregs + qc_main.cregs\n",
    "    qc = QuantumCircuit(*registers)\n",
    "    \n",
    "    data_register = qc.qregs[1]\n",
    "    crot_register = qc.qregs[3]\n",
    "\n",
    "    for idata, data in enumerate(data_register):\n",
    "        theta = np.arccos(np.exp(loggamma_sign * K * (2 ** idata) * 2))\n",
    "        qc.cry(-theta * 2., data, crot_register[idata])\n",
    "        \n",
    "    return qc"
   ]
  },
  {
   "cell_type": "code",
   "execution_count": 15,
   "metadata": {},
   "outputs": [],
   "source": [
    "def phase_flip_target(qc_main, target_register):\n",
    "    registers = qc_main.qregs + qc_main.cregs\n",
    "    qc = QuantumCircuit(*registers)\n",
    "    \n",
    "    qubits = list(q for q in target_register)\n",
    "    \n",
    "    anc = qc.qregs[2][0]\n",
    "\n",
    "    for q in qubits:\n",
    "        qc.x(q)\n",
    "\n",
    "    # mcz doesn't exist in current qiskit version\n",
    "    qc.h(anc)\n",
    "    qc.mcx(qubits, anc)\n",
    "    qc.h(anc)\n",
    "\n",
    "    for q in qubits:\n",
    "        qc.x(q)\n",
    "        \n",
    "    return qc"
   ]
  },
  {
   "cell_type": "code",
   "execution_count": 16,
   "metadata": {},
   "outputs": [],
   "source": [
    "def phase_flip_source(qc_main):\n",
    "    registers = qc_main.qregs + qc_main.cregs\n",
    "    qc = QuantumCircuit(*registers)\n",
    "\n",
    "    qubits = list(q for q in qc.qregs[0])\n",
    "    qubits += list(q for q in qc.qregs[1])\n",
    "    if len(qc.qregs) > 3:\n",
    "        qubits += list(q for q in qc.qregs[3])\n",
    "\n",
    "    anc = qc.qregs[2][0]\n",
    "\n",
    "    for q in qubits:\n",
    "        qc.x(q)\n",
    "\n",
    "    qc.h(anc)\n",
    "    qc.mcx(qubits, anc)\n",
    "    qc.h(anc)\n",
    "\n",
    "    for q in qubits:\n",
    "        qc.x(q)\n",
    "\n",
    "    qc.z(anc)\n",
    "    \n",
    "    return qc"
   ]
  },
  {
   "cell_type": "markdown",
   "metadata": {},
   "source": [
    "## Functions for the analysis of distributions"
   ]
  },
  {
   "cell_type": "code",
   "execution_count": 17,
   "metadata": {},
   "outputs": [],
   "source": [
    "def make_spins(params):\n",
    "    lattice_side = params['lattice_side']\n",
    "    n_spins = params['n_spins']\n",
    "\n",
    "    ispins = np.arange(2 ** n_spins, dtype=np.uint64)\n",
    "    n_split = math.ceil(n_spins / 8)\n",
    "    spins = np.empty((ispins.shape[0], n_split), dtype=np.uint8)\n",
    "    for isp in range(n_split):\n",
    "        spins[:, isp] = (ispins // (256 ** isp)) % 256\n",
    "\n",
    "    return np.unpackbits(spins, axis=1, count=n_spins, bitorder='little').reshape((-1, lattice_side, lattice_side))"
   ]
  },
  {
   "cell_type": "code",
   "execution_count": 18,
   "metadata": {},
   "outputs": [],
   "source": [
    "def compute_sigmas(params):\n",
    "    spins = make_spins(params)\n",
    "\n",
    "    spins_leftshift = np.roll(spins, -1, axis=2)\n",
    "    spins_upshift = np.roll(spins, -1, axis=1)\n",
    "\n",
    "    sigmas = np.sum(np.asarray((spins != spins_leftshift), dtype=np.int), axis=(1, 2))\n",
    "    sigmas += np.sum(np.asarray((spins != spins_upshift), dtype=np.int), axis=(1, 2))\n",
    "    return sigmas"
   ]
  },
  {
   "cell_type": "code",
   "execution_count": 19,
   "metadata": {},
   "outputs": [],
   "source": [
    "def compute_ms(params):\n",
    "    spins = make_spins(params).reshape((-1, params['n_spins'])).astype(np.int)\n",
    "    return np.sum((spins * 2 - 1), axis=1)"
   ]
  },
  {
   "cell_type": "code",
   "execution_count": 20,
   "metadata": {},
   "outputs": [],
   "source": [
    "def plot_boltzmann(params, K, counts):\n",
    "    \"\"\"\n",
    "    Plot frequency / density of states for each Sigma_l\n",
    "    \"\"\"\n",
    "\n",
    "    n_spins = params['n_spins']\n",
    "    nq_data = params['nq_data']\n",
    "    sigma_max = params['sigma_max']\n",
    "\n",
    "    # Compute the density of states\n",
    "    sigmas = compute_sigmas(params) # value of Sigma_l for each l\n",
    "    ref = np.tile(np.arange(0, sigma_max + 2, 2).reshape(-1, 1), (1, sigmas.shape[0])) # possible Sigma_l values to compare against\n",
    "    density_truth = np.sum(np.asarray((sigmas == ref), dtype=np.int), axis=-1) / (2 ** n_spins) # number of matching Sigma_l values divided by the total\n",
    "\n",
    "    # Make a histogram from counts\n",
    "    allcounts = np.zeros(sigma_max // 2 + 1, dtype=np.float)\n",
    "    for key, value in counts.items():\n",
    "        if int(key[:nq_data], 2) != 0:\n",
    "            continue\n",
    "\n",
    "        k = int(key[nq_data:], 2)\n",
    "        idx = sigmas[k] // 2\n",
    "        allcounts[idx] += value\n",
    "        \n",
    "    histogram = np.zeros_like(allcounts)\n",
    "    np.divide(allcounts, density_truth, out=histogram, where=(density_truth != 0))\n",
    "    stat = np.zeros_like(allcounts)\n",
    "    np.divide(np.sqrt(allcounts), density_truth, out=stat, where=(density_truth != 0))\n",
    "    \n",
    "    histx = np.arange(0, sigma_max + 1, 2)\n",
    "    \n",
    "    # Find the \"exponential intercept\" (=norm) of the theoretical curve\n",
    "    hist_nonzero = np.asarray(histogram != 0)\n",
    "    loghist = np.zeros_like(histogram)\n",
    "    np.log(histogram, out=loghist, where=hist_nonzero)\n",
    "    diff = np.zeros_like(loghist)\n",
    "    np.subtract(loghist, -2. * K * histx, out=diff, where=hist_nonzero)\n",
    "    norm = np.exp(np.sum(diff) / np.sum(hist_nonzero))\n",
    "    \n",
    "    fig = plt.figure()\n",
    "    ax = fig.add_subplot()\n",
    "\n",
    "    ax.bar(histx, histogram, yerr=stat, label='frequency/density')\n",
    "    \n",
    "    x = np.arange(0, sigma_max, 0.001)\n",
    "    y = np.exp(-2. * K * x) * norm\n",
    "    ax.plot(x, y, linestyle='--', color='red', label=r'$exp(-2\\beta J \\Sigma_{\\ell})$')\n",
    "\n",
    "    ax.set_xlabel(r'$\\Sigma_{\\ell}$')\n",
    "    ax.set_ylabel('a.u.')\n",
    "    ax.legend()\n",
    "    fig.show(warn=False)"
   ]
  },
  {
   "cell_type": "code",
   "execution_count": 21,
   "metadata": {},
   "outputs": [],
   "source": [
    "def make_magnetization(params, counts):\n",
    "    n_spins = params['n_spins']\n",
    "    nq_data = params['nq_data']\n",
    "    \n",
    "    ms = compute_ms(params)\n",
    "    \n",
    "    histogram = np.zeros(n_spins + 1, dtype=np.float)\n",
    "    for key, value in counts.items():\n",
    "        if int(key[:nq_data], 2) != 0:\n",
    "            continue\n",
    "            \n",
    "        k = int(key[nq_data:], 2)\n",
    "        idx = (ms[k] + n_spins) // 2\n",
    "        histogram[idx] += value\n",
    "\n",
    "    return histogram"
   ]
  },
  {
   "cell_type": "markdown",
   "metadata": {},
   "source": [
    "## Experiments"
   ]
  },
  {
   "cell_type": "code",
   "execution_count": null,
   "metadata": {},
   "outputs": [],
   "source": [
    "#sim_backend = QCGPU.get_backend('qasm_simulator')\n",
    "sim_backend = None\n",
    "\n",
    "# Create an IBMQ backend to transpile all experiments for \n",
    "IBMQ.load_account()\n",
    "\n",
    "provider = IBMQ.get_provider(hub='ibm-q', group='open')"
   ]
  },
  {
   "cell_type": "markdown",
   "metadata": {},
   "source": [
    "#### Note about the next block\n",
    "There is no publicly available IBMQ backend with >= 27 qubits as of May 30, 2020. This many qubits are needed because `ibmq_backend` is used to give the backend specification for transpilation studies (gate counting) including the one for the 4x4 controlled variant. For the actual experiment, we can only run on 2x2 lattices, for which you only need at most 11 qubits."
   ]
  },
  {
   "cell_type": "code",
   "execution_count": 22,
   "metadata": {},
   "outputs": [],
   "source": [
    "def backend_filter(backend):\n",
    "    conf = backend.configuration()\n",
    "    return conf.n_qubits >= 27 and not conf.simulator\n",
    "\n",
    "ibmq_backend = least_busy(provider.backends(filters=backend_filter))"
   ]
  },
  {
   "cell_type": "code",
   "execution_count": 23,
   "metadata": {
    "scrolled": true
   },
   "outputs": [
    {
     "data": {
      "application/vnd.jupyter.widget-view+json": {
       "model_id": "bb2da029c65d480299a60061b6d71c66",
       "version_major": 2,
       "version_minor": 0
      },
      "text/plain": [
       "Accordion(children=(VBox(layout=Layout(max_width='710px', min_width='710px')),), layout=Layout(max_height='500…"
      ]
     },
     "metadata": {},
     "output_type": "display_data"
    },
    {
     "data": {
      "application/javascript": [
       "$('div.job_widget')\n",
       "        .detach()\n",
       "        .appendTo($('#header'))\n",
       "        .css({\n",
       "            'z-index': 999,\n",
       "             'position': 'fixed',\n",
       "            'box-shadow': '5px 5px 5px -3px black',\n",
       "            'opacity': 0.95,\n",
       "            'float': 'left,'\n",
       "        })\n",
       "        "
      ],
      "text/plain": [
       "<IPython.core.display.Javascript object>"
      ]
     },
     "metadata": {},
     "output_type": "display_data"
    },
    {
     "data": {
      "application/vnd.jupyter.widget-view+json": {
       "model_id": "2f433444e89f437f89ab658142b98e02",
       "version_major": 2,
       "version_minor": 0
      },
      "text/plain": [
       "VBox(children=(HTML(value=\"<h1 style='color:#ffffff;background-color:#000000;padding-top: 1%;padding-bottom: 1…"
      ]
     },
     "metadata": {},
     "output_type": "display_data"
    },
    {
     "data": {
      "text/plain": [
       "<IBMQBackend('ibmq_cambridge') from IBMQ(hub='ibm-q-utokyo', group='internal', project='icepp')>"
      ]
     },
     "execution_count": 23,
     "metadata": {},
     "output_type": "execute_result"
    }
   ],
   "source": [
    "%qiskit_job_watcher\n",
    "ibmq_backend"
   ]
  },
  {
   "cell_type": "code",
   "execution_count": 24,
   "metadata": {},
   "outputs": [],
   "source": [
    "out = h5py.File('ising.h5', 'w')"
   ]
  },
  {
   "cell_type": "markdown",
   "metadata": {},
   "source": [
    "### Experiment 1-1: 2x2 simulation, direct variant"
   ]
  },
  {
   "cell_type": "code",
   "execution_count": 25,
   "metadata": {},
   "outputs": [
    {
     "name": "stdout",
     "output_type": "stream",
     "text": [
      "norm 0.4092152668501127 namp 2\n",
      "post-amp norm 0.8591587383012962\n",
      "qubits 8\n",
      "d 3\n",
      "efficiency 0.7372817993164062\n",
      "ops OrderedDict([('u3', 4)])\n"
     ]
    },
    {
     "data": {
      "image/png": "[encoded data removed]",
      "text/plain": [
       "<Figure size 432x288 with 1 Axes>"
      ]
     },
     "metadata": {
      "needs_background": "light"
     },
     "output_type": "display_data"
    }
   ],
   "source": [
    "params = get_params(2)\n",
    "K = 0.1\n",
    "\n",
    "qc = ising(params, K, version=2)\n",
    "\n",
    "counts = get_counts(qc, backend=sim_backend, shots=(8192 * 16))\n",
    "\n",
    "print('qubits', qc.num_qubits)\n",
    "print('d', len(qc.qregs[1]))\n",
    "print('efficiency', get_efficiency(params, counts))\n",
    "\n",
    "plot_boltzmann(params, K, counts)\n",
    "\n",
    "npcounts = numpify_counts(counts)\n",
    "out.create_dataset('1_1', npcounts.shape).write_direct(npcounts)\n",
    "\n",
    "qc_empty = ising(params, K, namp=0, compute_norm=False, trans_only=True, measure=False, version=2)\n",
    "qc_transpiled = transpile(qc_empty, backend=ibmq_backend, optimization_level=0)\n",
    "print('ops', qc_transpiled.count_ops())"
   ]
  },
  {
   "cell_type": "markdown",
   "metadata": {},
   "source": [
    "### Experiment 1-2: 2x2 simulation, controlled variant"
   ]
  },
  {
   "cell_type": "code",
   "execution_count": 26,
   "metadata": {},
   "outputs": [
    {
     "name": "stdout",
     "output_type": "stream",
     "text": [
      "norm 0.6980213376661545 namp 1\n",
      "post-amp norm 0.7336656916292502\n",
      "qubits 11\n",
      "d 3\n",
      "efficiency 0.5398635864257812\n",
      "ops OrderedDict([('cx', 33), ('u3', 7)])\n"
     ]
    },
    {
     "data": {
      "image/png": "[encoded data removed]",
      "text/plain": [
       "<Figure size 432x288 with 1 Axes>"
      ]
     },
     "metadata": {
      "needs_background": "light"
     },
     "output_type": "display_data"
    }
   ],
   "source": [
    "params = get_params(2)\n",
    "K = 0.1\n",
    "\n",
    "qc = ising(params, K, version=3)\n",
    "\n",
    "counts = get_counts(qc, backend=sim_backend, shots=(8192 * 16))\n",
    "\n",
    "print('qubits', qc.num_qubits)\n",
    "print('d', len(qc.qregs[1]))\n",
    "print('efficiency', get_efficiency(params, counts))\n",
    "\n",
    "plot_boltzmann(params, K, counts)\n",
    "\n",
    "npcounts = numpify_counts(counts)\n",
    "out.create_dataset('1_2', npcounts.shape).write_direct(npcounts)\n",
    "\n",
    "qc_empty = ising(params, K, namp=0, compute_norm=False, trans_only=True, measure=False, version=3)\n",
    "qc_transpiled = transpile(qc_empty, backend=ibmq_backend, optimization_level=0)\n",
    "print('ops', qc_transpiled.count_ops())"
   ]
  },
  {
   "cell_type": "markdown",
   "metadata": {},
   "source": [
    "### Experiment 2-1: 3x3 simulation, direct variant"
   ]
  },
  {
   "cell_type": "code",
   "execution_count": 27,
   "metadata": {},
   "outputs": [
    {
     "name": "stdout",
     "output_type": "stream",
     "text": [
      "norm 0.2502079649378561 namp 3\n",
      "post-amp norm 0.9801719335258668\n",
      "qubits 13\n",
      "d 3\n",
      "efficiency 0.9618301391601562\n",
      "ops OrderedDict([('u3', 4)])\n"
     ]
    },
    {
     "data": {
      "image/png": "[encoded data removed]",
      "text/plain": [
       "<Figure size 432x288 with 1 Axes>"
      ]
     },
     "metadata": {
      "needs_background": "light"
     },
     "output_type": "display_data"
    }
   ],
   "source": [
    "params = get_params(3)\n",
    "K = 0.1\n",
    "\n",
    "qc = ising(params, K, version=2)\n",
    "\n",
    "counts = get_counts(qc, backend=sim_backend, shots=(8192 * 16))\n",
    "\n",
    "print('qubits', qc.num_qubits)\n",
    "print('d', len(qc.qregs[1]))\n",
    "print('efficiency', get_efficiency(params, counts))\n",
    "\n",
    "plot_boltzmann(params, K, counts)\n",
    "\n",
    "npcounts = numpify_counts(counts)\n",
    "out.create_dataset('2_1', npcounts.shape).write_direct(npcounts)\n",
    "\n",
    "qc_empty = ising(params, K, namp=0, compute_norm=False, trans_only=True, measure=False, version=2)\n",
    "qc_transpiled = transpile(qc_empty, backend=ibmq_backend, optimization_level=0)\n",
    "print('ops', qc_transpiled.count_ops())"
   ]
  },
  {
   "cell_type": "markdown",
   "metadata": {},
   "source": [
    "### Experiment 2-2: 3x3 simulation, controlled variant"
   ]
  },
  {
   "cell_type": "code",
   "execution_count": 28,
   "metadata": {},
   "outputs": [
    {
     "name": "stdout",
     "output_type": "stream",
     "text": [
      "norm 0.4267937013323098 namp 2\n",
      "post-amp norm 0.8057085674523232\n",
      "qubits 16\n",
      "d 3\n",
      "efficiency 0.6478500366210938\n",
      "ops OrderedDict([('cx', 24), ('u3', 7)])\n"
     ]
    },
    {
     "data": {
      "image/png": "[encoded data removed]",
      "text/plain": [
       "<Figure size 432x288 with 1 Axes>"
      ]
     },
     "metadata": {
      "needs_background": "light"
     },
     "output_type": "display_data"
    }
   ],
   "source": [
    "params = get_params(3)\n",
    "K = 0.1\n",
    "\n",
    "qc = ising(params, K, version=3)\n",
    "\n",
    "counts = get_counts(qc, backend=sim_backend, shots=(8192 * 16))\n",
    "\n",
    "print('qubits', qc.num_qubits)\n",
    "print('d', len(qc.qregs[1]))\n",
    "print('efficiency', get_efficiency(params, counts))\n",
    "\n",
    "plot_boltzmann(params, K, counts)\n",
    "\n",
    "npcounts = numpify_counts(counts)\n",
    "out.create_dataset('2_2', npcounts.shape).write_direct(npcounts)\n",
    "\n",
    "qc_empty = ising(params, K, namp=0, compute_norm=False, trans_only=True, measure=False, version=3)\n",
    "qc_transpiled = transpile(qc_empty, backend=ibmq_backend, optimization_level=0)\n",
    "print('ops', qc_transpiled.count_ops())"
   ]
  },
  {
   "cell_type": "markdown",
   "metadata": {},
   "source": [
    "### Experiment 3-1: 4x4 simulation, direct variant"
   ]
  },
  {
   "cell_type": "code",
   "execution_count": 29,
   "metadata": {},
   "outputs": [
    {
     "name": "stdout",
     "output_type": "stream",
     "text": [
      "norm 0.12571997019934203 namp 6\n",
      "post-amp norm 0.9976957135493637\n",
      "qubits 22\n",
      "d 5\n",
      "efficiency 0.9952774047851562\n",
      "ops OrderedDict([('u3', 6)])\n"
     ]
    },
    {
     "data": {
      "image/png": "[encoded data removed]",
      "text/plain": [
       "<Figure size 432x288 with 1 Axes>"
      ]
     },
     "metadata": {
      "needs_background": "light"
     },
     "output_type": "display_data"
    }
   ],
   "source": [
    "params = get_params(4)\n",
    "K = 0.1\n",
    "\n",
    "qc = ising(params, K, version=2)\n",
    "\n",
    "counts = get_counts(qc, backend=sim_backend, shots=(8192 * 16))\n",
    "\n",
    "print('qubits', qc.num_qubits)\n",
    "print('d', len(qc.qregs[1]))\n",
    "print('efficiency', get_efficiency(params, counts))\n",
    "\n",
    "plot_boltzmann(params, K, counts)\n",
    "\n",
    "npcounts = numpify_counts(counts)\n",
    "out.create_dataset('3_1', npcounts.shape).write_direct(npcounts)\n",
    "\n",
    "qc_empty = ising(params, K, namp=0, compute_norm=False, trans_only=True, measure=False, version=2)\n",
    "qc_transpiled = transpile(qc_empty, backend=ibmq_backend, optimization_level=0)\n",
    "print('ops', qc_transpiled.count_ops())"
   ]
  },
  {
   "cell_type": "markdown",
   "metadata": {},
   "source": [
    "### Experiment 3-2: 4x4 simulation, controlled variant"
   ]
  },
  {
   "cell_type": "code",
   "execution_count": 30,
   "metadata": {},
   "outputs": [
    {
     "name": "stdout",
     "output_type": "stream",
     "text": [
      "norm 0.2189562767401905 namp 4\n",
      "post-amp norm 0.9147508020742467\n",
      "qubits 27\n",
      "d 5\n",
      "efficiency 0.8365478515625\n",
      "ops OrderedDict([('cx', 43), ('u3', 11)])\n"
     ]
    },
    {
     "data": {
      "image/png": "[encoded data removed]",
      "text/plain": [
       "<Figure size 432x288 with 1 Axes>"
      ]
     },
     "metadata": {
      "needs_background": "light"
     },
     "output_type": "display_data"
    }
   ],
   "source": [
    "params = get_params(4)\n",
    "K = 0.1\n",
    "\n",
    "qc = ising(params, K, version=3)\n",
    "\n",
    "counts = get_counts(qc, backend=sim_backend, shots=(8192 * 16))\n",
    "\n",
    "print('qubits', qc.num_qubits)\n",
    "print('d', len(qc.qregs[1]))\n",
    "print('efficiency', get_efficiency(params, counts))\n",
    "\n",
    "plot_boltzmann(params, K, counts)\n",
    "\n",
    "npcounts = numpify_counts(counts)\n",
    "out.create_dataset('3_2', npcounts.shape).write_direct(npcounts)\n",
    "\n",
    "qc_empty = ising(params, K, namp=0, compute_norm=False, trans_only=True, measure=False, version=3)\n",
    "qc_transpiled = transpile(qc_empty, backend=ibmq_backend, optimization_level=0)\n",
    "print('ops', qc_transpiled.count_ops())"
   ]
  },
  {
   "cell_type": "markdown",
   "metadata": {},
   "source": [
    "### Experiment 4-1: 2x2 IBMQ, direct variant"
   ]
  },
  {
   "cell_type": "code",
   "execution_count": 31,
   "metadata": {},
   "outputs": [
    {
     "name": "stdout",
     "output_type": "stream",
     "text": [
      "norm 0.4092152668501127 namp 0\n",
      "post-amp norm 0.4092152668501127\n",
      "efficiency 0.176513671875\n",
      "ops OrderedDict([('cx', 676), ('u2', 156), ('u1', 154), ('u3', 98), ('measure', 7), ('barrier', 1)])\n"
     ]
    },
    {
     "data": {
      "image/png": "[encoded data removed]",
      "text/plain": [
       "<Figure size 432x288 with 1 Axes>"
      ]
     },
     "metadata": {
      "needs_background": "light"
     },
     "output_type": "display_data"
    }
   ],
   "source": [
    "params = get_params(2)\n",
    "K = 0.1\n",
    "\n",
    "qc = ising(params, K, namp=0, version=2)\n",
    "qc_transpiled = transpile(qc, backend=ibmq_backend, optimization_level=3)\n",
    "\n",
    "counts = get_counts(qc_transpiled, backend=ibmq_backend, shots=8192)\n",
    "\n",
    "print('efficiency', get_efficiency(params, counts))\n",
    "\n",
    "plot_boltzmann(params, K, counts)\n",
    "\n",
    "npcounts = numpify_counts(counts)\n",
    "out.create_dataset('4_1', npcounts.shape).write_direct(npcounts)\n",
    "\n",
    "print('ops', qc_transpiled.count_ops())"
   ]
  },
  {
   "cell_type": "markdown",
   "metadata": {},
   "source": [
    "### Experiment 4-2: 2x2 IBMQ, controlled variant"
   ]
  },
  {
   "cell_type": "code",
   "execution_count": 32,
   "metadata": {},
   "outputs": [
    {
     "name": "stdout",
     "output_type": "stream",
     "text": [
      "norm 0.6980213376661545 namp 0\n",
      "post-amp norm 0.6980213376661545\n",
      "efficiency 0.2764892578125\n",
      "ops OrderedDict([('cx', 498), ('u1', 162), ('u2', 117), ('u3', 89), ('measure', 7), ('barrier', 1)])\n"
     ]
    },
    {
     "data": {
      "image/png": "[encoded data removed]",
      "text/plain": [
       "<Figure size 432x288 with 1 Axes>"
      ]
     },
     "metadata": {
      "needs_background": "light"
     },
     "output_type": "display_data"
    }
   ],
   "source": [
    "params = get_params(2)\n",
    "K = 0.1\n",
    "\n",
    "qc = ising(params, K, namp=0, version=3)\n",
    "qc_transpiled = transpile(qc, backend=ibmq_backend, optimization_level=3)\n",
    "\n",
    "counts = get_counts(qc_transpiled, backend=ibmq_backend, transpiled=True, shots=8192)\n",
    "\n",
    "print('efficiency', get_efficiency(params, counts))\n",
    "\n",
    "plot_boltzmann(params, K, counts)\n",
    "\n",
    "npcounts = numpify_counts(counts)\n",
    "out.create_dataset('4_2', npcounts.shape).write_direct(npcounts)\n",
    "\n",
    "print('ops', qc_transpiled.count_ops())"
   ]
  },
  {
   "cell_type": "markdown",
   "metadata": {},
   "source": [
    "### Experiment 5: Magnetization with 4x4 direct variant"
   ]
  },
  {
   "cell_type": "code",
   "execution_count": 33,
   "metadata": {},
   "outputs": [
    {
     "name": "stdout",
     "output_type": "stream",
     "text": [
      "norm 0.2021107067812753 namp 4\n",
      "post-amp norm 0.9661795383630112\n",
      "norm 0.007234911559917308 namp 109\n",
      "post-amp norm 0.9999066609207728\n",
      "norm 0.005482647464344397 namp 143\n",
      "post-amp norm 0.9999962697872568\n"
     ]
    },
    {
     "data": {
      "image/png": "[encoded data removed]",
      "text/plain": [
       "<Figure size 432x288 with 1 Axes>"
      ]
     },
     "metadata": {
      "needs_background": "light"
     },
     "output_type": "display_data"
    }
   ],
   "source": [
    "# Plot magnetization for several Ks\n",
    "params = get_params(4)\n",
    "Ks = [0.1 / 2.27, 1. / 2.27, 2. / 2.27]\n",
    "\n",
    "fig, ax = plt.subplots()\n",
    "x = np.arange(-params['n_spins'], params['n_spins'] + 1, 2)\n",
    "\n",
    "for iK, K in enumerate(Ks):\n",
    "    qc = ising(params, K, version=2)\n",
    "    counts = get_counts(qc, backend=sim_backend, shots=(8192 * 16))\n",
    "    \n",
    "    npcounts = numpify_counts(counts)\n",
    "    out.create_dataset('5_{}'.format(iK + 1), npcounts.shape).write_direct(npcounts)\n",
    "    \n",
    "    histogram = make_magnetization(params, counts)\n",
    "\n",
    "    ax.bar(x, histogram, yerr=np.sqrt(histogram), width=(1.4 - 0.4 * iK), alpha=0.8, label=r'$\\beta={:.1f}\\, \\beta_{{c}}$'.format(K * 2.27))\n",
    "\n",
    "ax.legend()\n",
    "ax.set_xlabel('M')\n",
    "ax.set_ylabel('a.u.')\n",
    "fig.show(warn=False)"
   ]
  },
  {
   "cell_type": "code",
   "execution_count": 34,
   "metadata": {},
   "outputs": [],
   "source": [
    "out.close()"
   ]
  }
 ],
 "metadata": {
  "kernelspec": {
   "display_name": "Python 3",
   "language": "python",
   "name": "python3"
  },
  "language_info": {
   "codemirror_mode": {
    "name": "ipython",
    "version": 3
   },
   "file_extension": ".py",
   "mimetype": "text/x-python",
   "name": "python",
   "nbconvert_exporter": "python",
   "pygments_lexer": "ipython3",
   "version": "3.8.5"
  }
 },
 "nbformat": 4,
 "nbformat_minor": 4
}
